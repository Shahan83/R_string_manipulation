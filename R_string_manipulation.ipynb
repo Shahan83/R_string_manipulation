{
 "cells": [
  {
   "cell_type": "code",
   "execution_count": 1,
   "metadata": {
    "collapsed": false
   },
   "outputs": [],
   "source": [
    "library(stringr)"
   ]
  },
  {
   "cell_type": "code",
   "execution_count": 2,
   "metadata": {
    "collapsed": true
   },
   "outputs": [],
   "source": [
    "string <- \"Los Angeles, officially the City of Los Angeles and often known by its initials \n",
    "L.A., is the second-most populous city in the United States (after New York City), the most\n",
    "populous city in California and the county seat of Los Angeles County. Situated in Southern\n",
    "California, Los Angeles is known for its Mediterranean climate, ethnic diversity, sprawling\n",
    "metropolis, and as a major center of the American entertainment industry.\""
   ]
  },
  {
   "cell_type": "code",
   "execution_count": 3,
   "metadata": {
    "collapsed": false
   },
   "outputs": [
    {
     "data": {
      "text/html": [
       "<ol class=list-inline>\n",
       "\t<li>'Los Angeles, officially the City of Los Angeles and often known by its'</li>\n",
       "\t<li>'initials L.A., is the second-most populous city in the United States'</li>\n",
       "\t<li>'(after New York City), the most populous city in California and the'</li>\n",
       "\t<li>'county seat of Los Angeles County. Situated in Southern California, Los'</li>\n",
       "\t<li>'Angeles is known for its Mediterranean climate, ethnic diversity,'</li>\n",
       "\t<li>'sprawling metropolis, and as a major center of the American'</li>\n",
       "\t<li>'entertainment industry.'</li>\n",
       "</ol>\n"
      ],
      "text/latex": [
       "\\begin{enumerate*}\n",
       "\\item 'Los Angeles, officially the City of Los Angeles and often known by its'\n",
       "\\item 'initials L.A., is the second-most populous city in the United States'\n",
       "\\item '(after New York City), the most populous city in California and the'\n",
       "\\item 'county seat of Los Angeles County. Situated in Southern California, Los'\n",
       "\\item 'Angeles is known for its Mediterranean climate, ethnic diversity,'\n",
       "\\item 'sprawling metropolis, and as a major center of the American'\n",
       "\\item 'entertainment industry.'\n",
       "\\end{enumerate*}\n"
      ],
      "text/markdown": [
       "1. 'Los Angeles, officially the City of Los Angeles and often known by its'\n",
       "2. 'initials L.A., is the second-most populous city in the United States'\n",
       "3. '(after New York City), the most populous city in California and the'\n",
       "4. 'county seat of Los Angeles County. Situated in Southern California, Los'\n",
       "5. 'Angeles is known for its Mediterranean climate, ethnic diversity,'\n",
       "6. 'sprawling metropolis, and as a major center of the American'\n",
       "7. 'entertainment industry.'\n",
       "\n",
       "\n"
      ],
      "text/plain": [
       "[1] \"Los Angeles, officially the City of Los Angeles and often known by its\" \n",
       "[2] \"initials L.A., is the second-most populous city in the United States\"   \n",
       "[3] \"(after New York City), the most populous city in California and the\"    \n",
       "[4] \"county seat of Los Angeles County. Situated in Southern California, Los\"\n",
       "[5] \"Angeles is known for its Mediterranean climate, ethnic diversity,\"      \n",
       "[6] \"sprawling metropolis, and as a major center of the American\"            \n",
       "[7] \"entertainment industry.\"                                                "
      ]
     },
     "metadata": {},
     "output_type": "display_data"
    }
   ],
   "source": [
    "strwrap(string)"
   ]
  },
  {
   "cell_type": "code",
   "execution_count": 4,
   "metadata": {
    "collapsed": false
   },
   "outputs": [
    {
     "data": {
      "text/html": [
       "430"
      ],
      "text/latex": [
       "430"
      ],
      "text/markdown": [
       "430"
      ],
      "text/plain": [
       "[1] 430"
      ]
     },
     "metadata": {},
     "output_type": "display_data"
    }
   ],
   "source": [
    "#count number of characters\n",
    "nchar(string)"
   ]
  },
  {
   "cell_type": "code",
   "execution_count": 5,
   "metadata": {
    "collapsed": false
   },
   "outputs": [
    {
     "data": {
      "text/html": [
       "430"
      ],
      "text/latex": [
       "430"
      ],
      "text/markdown": [
       "430"
      ],
      "text/plain": [
       "[1] 430"
      ]
     },
     "metadata": {},
     "output_type": "display_data"
    }
   ],
   "source": [
    "str_length(string)"
   ]
  },
  {
   "cell_type": "code",
   "execution_count": 6,
   "metadata": {
    "collapsed": false
   },
   "outputs": [
    {
     "data": {
      "text/html": [
       "'los angeles, officially the city of los angeles and often known by its initials \n",
       "l.a., is the second-most populous city in the united states (after new york city), the most\n",
       "populous city in california and the county seat of los angeles county. situated in southern\n",
       "california, los angeles is known for its mediterranean climate, ethnic diversity, sprawling\n",
       "metropolis, and as a major center of the american entertainment industry.'"
      ],
      "text/latex": [
       "'los angeles, officially the city of los angeles and often known by its initials \n",
       "l.a., is the second-most populous city in the united states (after new york city), the most\n",
       "populous city in california and the county seat of los angeles county. situated in southern\n",
       "california, los angeles is known for its mediterranean climate, ethnic diversity, sprawling\n",
       "metropolis, and as a major center of the american entertainment industry.'"
      ],
      "text/markdown": [
       "'los angeles, officially the city of los angeles and often known by its initials \n",
       "l.a., is the second-most populous city in the united states (after new york city), the most\n",
       "populous city in california and the county seat of los angeles county. situated in southern\n",
       "california, los angeles is known for its mediterranean climate, ethnic diversity, sprawling\n",
       "metropolis, and as a major center of the american entertainment industry.'"
      ],
      "text/plain": [
       "[1] \"los angeles, officially the city of los angeles and often known by its initials \\nl.a., is the second-most populous city in the united states (after new york city), the most\\npopulous city in california and the county seat of los angeles county. situated in southern\\ncalifornia, los angeles is known for its mediterranean climate, ethnic diversity, sprawling\\nmetropolis, and as a major center of the american entertainment industry.\""
      ]
     },
     "metadata": {},
     "output_type": "display_data"
    }
   ],
   "source": [
    "#convert to lower\n",
    "tolower(string)"
   ]
  },
  {
   "cell_type": "code",
   "execution_count": 7,
   "metadata": {
    "collapsed": false
   },
   "outputs": [
    {
     "data": {
      "text/html": [
       "'los angeles, officially the city of los angeles and often known by its initials \n",
       "l.a., is the second-most populous city in the united states (after new york city), the most\n",
       "populous city in california and the county seat of los angeles county. situated in southern\n",
       "california, los angeles is known for its mediterranean climate, ethnic diversity, sprawling\n",
       "metropolis, and as a major center of the american entertainment industry.'"
      ],
      "text/latex": [
       "'los angeles, officially the city of los angeles and often known by its initials \n",
       "l.a., is the second-most populous city in the united states (after new york city), the most\n",
       "populous city in california and the county seat of los angeles county. situated in southern\n",
       "california, los angeles is known for its mediterranean climate, ethnic diversity, sprawling\n",
       "metropolis, and as a major center of the american entertainment industry.'"
      ],
      "text/markdown": [
       "'los angeles, officially the city of los angeles and often known by its initials \n",
       "l.a., is the second-most populous city in the united states (after new york city), the most\n",
       "populous city in california and the county seat of los angeles county. situated in southern\n",
       "california, los angeles is known for its mediterranean climate, ethnic diversity, sprawling\n",
       "metropolis, and as a major center of the american entertainment industry.'"
      ],
      "text/plain": [
       "[1] \"los angeles, officially the city of los angeles and often known by its initials \\nl.a., is the second-most populous city in the united states (after new york city), the most\\npopulous city in california and the county seat of los angeles county. situated in southern\\ncalifornia, los angeles is known for its mediterranean climate, ethnic diversity, sprawling\\nmetropolis, and as a major center of the american entertainment industry.\""
      ]
     },
     "metadata": {},
     "output_type": "display_data"
    }
   ],
   "source": [
    "str_to_lower(string)"
   ]
  },
  {
   "cell_type": "code",
   "execution_count": 8,
   "metadata": {
    "collapsed": false
   },
   "outputs": [
    {
     "data": {
      "text/html": [
       "'LOS ANGELES, OFFICIALLY THE CITY OF LOS ANGELES AND OFTEN KNOWN BY ITS INITIALS \n",
       "L.A., IS THE SECOND-MOST POPULOUS CITY IN THE UNITED STATES (AFTER NEW YORK CITY), THE MOST\n",
       "POPULOUS CITY IN CALIFORNIA AND THE COUNTY SEAT OF LOS ANGELES COUNTY. SITUATED IN SOUTHERN\n",
       "CALIFORNIA, LOS ANGELES IS KNOWN FOR ITS MEDITERRANEAN CLIMATE, ETHNIC DIVERSITY, SPRAWLING\n",
       "METROPOLIS, AND AS A MAJOR CENTER OF THE AMERICAN ENTERTAINMENT INDUSTRY.'"
      ],
      "text/latex": [
       "'LOS ANGELES, OFFICIALLY THE CITY OF LOS ANGELES AND OFTEN KNOWN BY ITS INITIALS \n",
       "L.A., IS THE SECOND-MOST POPULOUS CITY IN THE UNITED STATES (AFTER NEW YORK CITY), THE MOST\n",
       "POPULOUS CITY IN CALIFORNIA AND THE COUNTY SEAT OF LOS ANGELES COUNTY. SITUATED IN SOUTHERN\n",
       "CALIFORNIA, LOS ANGELES IS KNOWN FOR ITS MEDITERRANEAN CLIMATE, ETHNIC DIVERSITY, SPRAWLING\n",
       "METROPOLIS, AND AS A MAJOR CENTER OF THE AMERICAN ENTERTAINMENT INDUSTRY.'"
      ],
      "text/markdown": [
       "'LOS ANGELES, OFFICIALLY THE CITY OF LOS ANGELES AND OFTEN KNOWN BY ITS INITIALS \n",
       "L.A., IS THE SECOND-MOST POPULOUS CITY IN THE UNITED STATES (AFTER NEW YORK CITY), THE MOST\n",
       "POPULOUS CITY IN CALIFORNIA AND THE COUNTY SEAT OF LOS ANGELES COUNTY. SITUATED IN SOUTHERN\n",
       "CALIFORNIA, LOS ANGELES IS KNOWN FOR ITS MEDITERRANEAN CLIMATE, ETHNIC DIVERSITY, SPRAWLING\n",
       "METROPOLIS, AND AS A MAJOR CENTER OF THE AMERICAN ENTERTAINMENT INDUSTRY.'"
      ],
      "text/plain": [
       "[1] \"LOS ANGELES, OFFICIALLY THE CITY OF LOS ANGELES AND OFTEN KNOWN BY ITS INITIALS \\nL.A., IS THE SECOND-MOST POPULOUS CITY IN THE UNITED STATES (AFTER NEW YORK CITY), THE MOST\\nPOPULOUS CITY IN CALIFORNIA AND THE COUNTY SEAT OF LOS ANGELES COUNTY. SITUATED IN SOUTHERN\\nCALIFORNIA, LOS ANGELES IS KNOWN FOR ITS MEDITERRANEAN CLIMATE, ETHNIC DIVERSITY, SPRAWLING\\nMETROPOLIS, AND AS A MAJOR CENTER OF THE AMERICAN ENTERTAINMENT INDUSTRY.\""
      ]
     },
     "metadata": {},
     "output_type": "display_data"
    }
   ],
   "source": [
    "#convert to upper\n",
    "toupper(string)"
   ]
  },
  {
   "cell_type": "code",
   "execution_count": 9,
   "metadata": {
    "collapsed": false
   },
   "outputs": [
    {
     "data": {
      "text/html": [
       "'LOS ANGELES, OFFICIALLY THE CITY OF LOS ANGELES AND OFTEN KNOWN BY ITS INITIALS \n",
       "L.A., IS THE SECOND-MOST POPULOUS CITY IN THE UNITED STATES (AFTER NEW YORK CITY), THE MOST\n",
       "POPULOUS CITY IN CALIFORNIA AND THE COUNTY SEAT OF LOS ANGELES COUNTY. SITUATED IN SOUTHERN\n",
       "CALIFORNIA, LOS ANGELES IS KNOWN FOR ITS MEDITERRANEAN CLIMATE, ETHNIC DIVERSITY, SPRAWLING\n",
       "METROPOLIS, AND AS A MAJOR CENTER OF THE AMERICAN ENTERTAINMENT INDUSTRY.'"
      ],
      "text/latex": [
       "'LOS ANGELES, OFFICIALLY THE CITY OF LOS ANGELES AND OFTEN KNOWN BY ITS INITIALS \n",
       "L.A., IS THE SECOND-MOST POPULOUS CITY IN THE UNITED STATES (AFTER NEW YORK CITY), THE MOST\n",
       "POPULOUS CITY IN CALIFORNIA AND THE COUNTY SEAT OF LOS ANGELES COUNTY. SITUATED IN SOUTHERN\n",
       "CALIFORNIA, LOS ANGELES IS KNOWN FOR ITS MEDITERRANEAN CLIMATE, ETHNIC DIVERSITY, SPRAWLING\n",
       "METROPOLIS, AND AS A MAJOR CENTER OF THE AMERICAN ENTERTAINMENT INDUSTRY.'"
      ],
      "text/markdown": [
       "'LOS ANGELES, OFFICIALLY THE CITY OF LOS ANGELES AND OFTEN KNOWN BY ITS INITIALS \n",
       "L.A., IS THE SECOND-MOST POPULOUS CITY IN THE UNITED STATES (AFTER NEW YORK CITY), THE MOST\n",
       "POPULOUS CITY IN CALIFORNIA AND THE COUNTY SEAT OF LOS ANGELES COUNTY. SITUATED IN SOUTHERN\n",
       "CALIFORNIA, LOS ANGELES IS KNOWN FOR ITS MEDITERRANEAN CLIMATE, ETHNIC DIVERSITY, SPRAWLING\n",
       "METROPOLIS, AND AS A MAJOR CENTER OF THE AMERICAN ENTERTAINMENT INDUSTRY.'"
      ],
      "text/plain": [
       "[1] \"LOS ANGELES, OFFICIALLY THE CITY OF LOS ANGELES AND OFTEN KNOWN BY ITS INITIALS \\nL.A., IS THE SECOND-MOST POPULOUS CITY IN THE UNITED STATES (AFTER NEW YORK CITY), THE MOST\\nPOPULOUS CITY IN CALIFORNIA AND THE COUNTY SEAT OF LOS ANGELES COUNTY. SITUATED IN SOUTHERN\\nCALIFORNIA, LOS ANGELES IS KNOWN FOR ITS MEDITERRANEAN CLIMATE, ETHNIC DIVERSITY, SPRAWLING\\nMETROPOLIS, AND AS A MAJOR CENTER OF THE AMERICAN ENTERTAINMENT INDUSTRY.\""
      ]
     },
     "metadata": {},
     "output_type": "display_data"
    }
   ],
   "source": [
    "str_to_upper(string)"
   ]
  },
  {
   "cell_type": "code",
   "execution_count": 10,
   "metadata": {
    "collapsed": false
   },
   "outputs": [
    {
     "data": {
      "text/html": [
       "'Los Aogeles, officiflly the City of Los Aogeles for ofteo koowo by its ioitifls \n",
       "L.A., is the secoor-most populous city io the Uoiter Stftes (ffter New York City), the most\n",
       "populous city io Cfliforoif for the couoty seft of Los Aogeles Couoty. Situfter io Southero\n",
       "Cfliforoif, Los Aogeles is koowo for its Meriterrfoefo climfte, ethoic riversity, sprfwliog\n",
       "metropolis, for fs f mfjor ceoter of the Americfo eotertfiomeot iorustry.'"
      ],
      "text/latex": [
       "'Los Aogeles, officiflly the City of Los Aogeles for ofteo koowo by its ioitifls \n",
       "L.A., is the secoor-most populous city io the Uoiter Stftes (ffter New York City), the most\n",
       "populous city io Cfliforoif for the couoty seft of Los Aogeles Couoty. Situfter io Southero\n",
       "Cfliforoif, Los Aogeles is koowo for its Meriterrfoefo climfte, ethoic riversity, sprfwliog\n",
       "metropolis, for fs f mfjor ceoter of the Americfo eotertfiomeot iorustry.'"
      ],
      "text/markdown": [
       "'Los Aogeles, officiflly the City of Los Aogeles for ofteo koowo by its ioitifls \n",
       "L.A., is the secoor-most populous city io the Uoiter Stftes (ffter New York City), the most\n",
       "populous city io Cfliforoif for the couoty seft of Los Aogeles Couoty. Situfter io Southero\n",
       "Cfliforoif, Los Aogeles is koowo for its Meriterrfoefo climfte, ethoic riversity, sprfwliog\n",
       "metropolis, for fs f mfjor ceoter of the Americfo eotertfiomeot iorustry.'"
      ],
      "text/plain": [
       "[1] \"Los Aogeles, officiflly the City of Los Aogeles for ofteo koowo by its ioitifls \\nL.A., is the secoor-most populous city io the Uoiter Stftes (ffter New York City), the most\\npopulous city io Cfliforoif for the couoty seft of Los Aogeles Couoty. Situfter io Southero\\nCfliforoif, Los Aogeles is koowo for its Meriterrfoefo climfte, ethoic riversity, sprfwliog\\nmetropolis, for fs f mfjor ceoter of the Americfo eotertfiomeot iorustry.\""
      ]
     },
     "metadata": {},
     "output_type": "display_data"
    }
   ],
   "source": [
    "#replace string #letters a,n,d get replaced by f,o,r \n",
    "chartr(\"and\",\"for\", x = string)"
   ]
  },
  {
   "cell_type": "code",
   "execution_count": 11,
   "metadata": {
    "collapsed": false
   },
   "outputs": [
    {
     "data": {
      "text/html": [
       "'Los Angeles, officially the state of Los Angeles and often known by its initials \n",
       "L.A., is the second-most populous city in the United States (after New York state), the most\n",
       "populous city in California and the county seat of Los Angeles County. Situated in Southern\n",
       "California, Los Angeles is known for its Mediterranean climate, ethnic diversity, sprawling\n",
       "metropolis, and as a major center of the American entertainment industry.'"
      ],
      "text/latex": [
       "'Los Angeles, officially the state of Los Angeles and often known by its initials \n",
       "L.A., is the second-most populous city in the United States (after New York state), the most\n",
       "populous city in California and the county seat of Los Angeles County. Situated in Southern\n",
       "California, Los Angeles is known for its Mediterranean climate, ethnic diversity, sprawling\n",
       "metropolis, and as a major center of the American entertainment industry.'"
      ],
      "text/markdown": [
       "'Los Angeles, officially the state of Los Angeles and often known by its initials \n",
       "L.A., is the second-most populous city in the United States (after New York state), the most\n",
       "populous city in California and the county seat of Los Angeles County. Situated in Southern\n",
       "California, Los Angeles is known for its Mediterranean climate, ethnic diversity, sprawling\n",
       "metropolis, and as a major center of the American entertainment industry.'"
      ],
      "text/plain": [
       "[1] \"Los Angeles, officially the state of Los Angeles and often known by its initials \\nL.A., is the second-most populous city in the United States (after New York state), the most\\npopulous city in California and the county seat of Los Angeles County. Situated in Southern\\nCalifornia, Los Angeles is known for its Mediterranean climate, ethnic diversity, sprawling\\nmetropolis, and as a major center of the American entertainment industry.\""
      ]
     },
     "metadata": {},
     "output_type": "display_data"
    }
   ],
   "source": [
    "str_replace_all(string = string, pattern = c(\"City\"), replacement = \"state\")"
   ]
  },
  {
   "cell_type": "code",
   "execution_count": 13,
   "metadata": {
    "collapsed": false
   },
   "outputs": [
    {
     "data": {
      "text/html": [
       "'Angeles'"
      ],
      "text/latex": [
       "'Angeles'"
      ],
      "text/markdown": [
       "'Angeles'"
      ],
      "text/plain": [
       "[1] \"Angeles\""
      ]
     },
     "metadata": {},
     "output_type": "display_data"
    }
   ],
   "source": [
    "#extract parts of string\n",
    "substr(x=string, start=5, stop=11)"
   ]
  },
  {
   "cell_type": "code",
   "execution_count": 15,
   "metadata": {
    "collapsed": false
   },
   "outputs": [
    {
     "data": {
      "text/html": [
       "'Angeles'"
      ],
      "text/latex": [
       "'Angeles'"
      ],
      "text/markdown": [
       "'Angeles'"
      ],
      "text/plain": [
       "[1] \"Angeles\""
      ]
     },
     "metadata": {},
     "output_type": "display_data"
    }
   ],
   "source": [
    "str_sub(string = string, start = 5, end = 11)"
   ]
  },
  {
   "cell_type": "code",
   "execution_count": 16,
   "metadata": {
    "collapsed": false
   },
   "outputs": [
    {
     "data": {
      "text/html": [
       "<ol class=list-inline>\n",
       "\t<li>'tuesday'</li>\n",
       "\t<li>'wednesday'</li>\n",
       "</ol>\n"
      ],
      "text/latex": [
       "\\begin{enumerate*}\n",
       "\\item 'tuesday'\n",
       "\\item 'wednesday'\n",
       "\\end{enumerate*}\n"
      ],
      "text/markdown": [
       "1. 'tuesday'\n",
       "2. 'wednesday'\n",
       "\n",
       "\n"
      ],
      "text/plain": [
       "[1] \"tuesday\"   \"wednesday\""
      ]
     },
     "metadata": {},
     "output_type": "display_data"
    }
   ],
   "source": [
    "#get difference between 2 vectors\n",
    "setdiff(c(\"monday\", \"tuesday\", \"wednesday\"), c(\"monday\", \"thursday\", \"friday\"))"
   ]
  },
  {
   "cell_type": "code",
   "execution_count": 17,
   "metadata": {
    "collapsed": false
   },
   "outputs": [
    {
     "data": {
      "text/html": [
       "TRUE"
      ],
      "text/latex": [
       "TRUE"
      ],
      "text/markdown": [
       "TRUE"
      ],
      "text/plain": [
       "[1] TRUE"
      ]
     },
     "metadata": {},
     "output_type": "display_data"
    }
   ],
   "source": [
    "#check if strings are equal\n",
    "setequal(c(\"monday\",\"tuesday\",\"wednesday\"),c(\"monday\",\"tuesday\",\"wednesday\"))"
   ]
  },
  {
   "cell_type": "code",
   "execution_count": 18,
   "metadata": {
    "collapsed": false
   },
   "outputs": [
    {
     "data": {
      "text/html": [
       "FALSE"
      ],
      "text/latex": [
       "FALSE"
      ],
      "text/markdown": [
       "FALSE"
      ],
      "text/plain": [
       "[1] FALSE"
      ]
     },
     "metadata": {},
     "output_type": "display_data"
    }
   ],
   "source": [
    "setequal(c(\"monday\",\"tuesday\",\"thursday\"),c(\"monday\",\"tuesday\",\"wednesday\")) "
   ]
  },
  {
   "cell_type": "code",
   "execution_count": 20,
   "metadata": {
    "collapsed": false
   },
   "outputs": [
    {
     "data": {
      "text/html": [
       "<dl class=dl-horizontal>\n",
       "\t<dt>monday</dt>\n",
       "\t\t<dd>'mnd'</dd>\n",
       "\t<dt>tuesday</dt>\n",
       "\t\t<dd>'tsd'</dd>\n",
       "\t<dt>wednesday</dt>\n",
       "\t\t<dd>'wdn'</dd>\n",
       "</dl>\n"
      ],
      "text/latex": [
       "\\begin{description*}\n",
       "\\item[monday] 'mnd'\n",
       "\\item[tuesday] 'tsd'\n",
       "\\item[wednesday] 'wdn'\n",
       "\\end{description*}\n"
      ],
      "text/markdown": [
       "monday\n",
       ":   'mnd'tuesday\n",
       ":   'tsd'wednesday\n",
       ":   'wdn'\n",
       "\n"
      ],
      "text/plain": [
       "   monday   tuesday wednesday \n",
       "    \"mnd\"     \"tsd\"     \"wdn\" "
      ]
     },
     "metadata": {},
     "output_type": "display_data"
    }
   ],
   "source": [
    "#abbreviate strings\n",
    "abbreviate(c(\"monday\", \"tuesday\", \"wednesday\"), minlength = 3)"
   ]
  },
  {
   "cell_type": "code",
   "execution_count": 21,
   "metadata": {
    "collapsed": false
   },
   "outputs": [
    {
     "data": {
      "text/html": [
       "<ol>\n",
       "\t<li><ol class=list-inline>\n",
       "\t<li>'ID'</li>\n",
       "\t<li>'101'</li>\n",
       "</ol>\n",
       "</li>\n",
       "\t<li><ol class=list-inline>\n",
       "\t<li>'ID'</li>\n",
       "\t<li>'102'</li>\n",
       "</ol>\n",
       "</li>\n",
       "\t<li><ol class=list-inline>\n",
       "\t<li>'ID'</li>\n",
       "\t<li>'103'</li>\n",
       "</ol>\n",
       "</li>\n",
       "\t<li><ol class=list-inline>\n",
       "\t<li>'ID'</li>\n",
       "\t<li>'104'</li>\n",
       "</ol>\n",
       "</li>\n",
       "</ol>\n"
      ],
      "text/latex": [
       "\\begin{enumerate}\n",
       "\\item \\begin{enumerate*}\n",
       "\\item 'ID'\n",
       "\\item '101'\n",
       "\\end{enumerate*}\n",
       "\n",
       "\\item \\begin{enumerate*}\n",
       "\\item 'ID'\n",
       "\\item '102'\n",
       "\\end{enumerate*}\n",
       "\n",
       "\\item \\begin{enumerate*}\n",
       "\\item 'ID'\n",
       "\\item '103'\n",
       "\\end{enumerate*}\n",
       "\n",
       "\\item \\begin{enumerate*}\n",
       "\\item 'ID'\n",
       "\\item '104'\n",
       "\\end{enumerate*}\n",
       "\n",
       "\\end{enumerate}\n"
      ],
      "text/markdown": [
       "1. 1. 'ID'\n",
       "2. '101'\n",
       "\n",
       "\n",
       "\n",
       "2. 1. 'ID'\n",
       "2. '102'\n",
       "\n",
       "\n",
       "\n",
       "3. 1. 'ID'\n",
       "2. '103'\n",
       "\n",
       "\n",
       "\n",
       "4. 1. 'ID'\n",
       "2. '104'\n",
       "\n",
       "\n",
       "\n",
       "\n",
       "\n"
      ],
      "text/plain": [
       "[[1]]\n",
       "[1] \"ID\"  \"101\"\n",
       "\n",
       "[[2]]\n",
       "[1] \"ID\"  \"102\"\n",
       "\n",
       "[[3]]\n",
       "[1] \"ID\"  \"103\"\n",
       "\n",
       "[[4]]\n",
       "[1] \"ID\"  \"104\"\n"
      ]
     },
     "metadata": {},
     "output_type": "display_data"
    }
   ],
   "source": [
    "#split strings\n",
    "strsplit(x = c(\"ID-101\",\"ID-102\",\"ID-103\",\"ID-104\"), split = \"-\" )"
   ]
  },
  {
   "cell_type": "code",
   "execution_count": 23,
   "metadata": {
    "collapsed": false
   },
   "outputs": [
    {
     "data": {
      "text/html": [
       "<table>\n",
       "<tbody>\n",
       "\t<tr><td>ID </td><td>101</td></tr>\n",
       "\t<tr><td>ID </td><td>102</td></tr>\n",
       "\t<tr><td>ID </td><td>103</td></tr>\n",
       "\t<tr><td>ID </td><td>104</td></tr>\n",
       "</tbody>\n",
       "</table>\n"
      ],
      "text/latex": [
       "\\begin{tabular}{ll}\n",
       "\t ID  & 101\\\\\n",
       "\t ID  & 102\\\\\n",
       "\t ID  & 103\\\\\n",
       "\t ID  & 104\\\\\n",
       "\\end{tabular}\n"
      ],
      "text/markdown": [
       "\n",
       "| ID  | 101 | \n",
       "| ID  | 102 | \n",
       "| ID  | 103 | \n",
       "| ID  | 104 | \n",
       "\n",
       "\n"
      ],
      "text/plain": [
       "     [,1] [,2]\n",
       "[1,] ID   101 \n",
       "[2,] ID   102 \n",
       "[3,] ID   103 \n",
       "[4,] ID   104 "
      ]
     },
     "metadata": {},
     "output_type": "display_data"
    }
   ],
   "source": [
    "str_split(string = c(\"ID-101\",\"ID-102\",\"ID-103\",\"ID-104\"), pattern = \"-\", simplify = T)"
   ]
  },
  {
   "cell_type": "code",
   "execution_count": 24,
   "metadata": {
    "collapsed": false
   },
   "outputs": [
    {
     "data": {
      "text/html": [
       "'Bos Angeles, officially the City of Los Angeles and often known by its initials \n",
       "L.A., is the second-most populous city in the United States (after New York City), the most\n",
       "populous city in California and the county seat of Los Angeles County. Situated in Southern\n",
       "California, Los Angeles is known for its Mediterranean climate, ethnic diversity, sprawling\n",
       "metropolis, and as a major center of the American entertainment industry.'"
      ],
      "text/latex": [
       "'Bos Angeles, officially the City of Los Angeles and often known by its initials \n",
       "L.A., is the second-most populous city in the United States (after New York City), the most\n",
       "populous city in California and the county seat of Los Angeles County. Situated in Southern\n",
       "California, Los Angeles is known for its Mediterranean climate, ethnic diversity, sprawling\n",
       "metropolis, and as a major center of the American entertainment industry.'"
      ],
      "text/markdown": [
       "'Bos Angeles, officially the City of Los Angeles and often known by its initials \n",
       "L.A., is the second-most populous city in the United States (after New York City), the most\n",
       "populous city in California and the county seat of Los Angeles County. Situated in Southern\n",
       "California, Los Angeles is known for its Mediterranean climate, ethnic diversity, sprawling\n",
       "metropolis, and as a major center of the American entertainment industry.'"
      ],
      "text/plain": [
       "[1] \"Bos Angeles, officially the City of Los Angeles and often known by its initials \\nL.A., is the second-most populous city in the United States (after New York City), the most\\npopulous city in California and the county seat of Los Angeles County. Situated in Southern\\nCalifornia, Los Angeles is known for its Mediterranean climate, ethnic diversity, sprawling\\nmetropolis, and as a major center of the American entertainment industry.\""
      ]
     },
     "metadata": {},
     "output_type": "display_data"
    }
   ],
   "source": [
    "#find and replace first match\n",
    "sub(pattern = \"L\", replacement = \"B\", x = string, ignore.case = T)"
   ]
  },
  {
   "cell_type": "code",
   "execution_count": 25,
   "metadata": {
    "collapsed": false
   },
   "outputs": [
    {
     "data": {
      "text/html": [
       "'Bos Angeles, officially the City of Bos Angeles and often known by its initials \n",
       "L.A., is the second-most populous city in the United States (after New York City), the most\n",
       "populous city in California and the county seat of Bos Angeles County. Situated in Southern\n",
       "California, Bos Angeles is known for its Mediterranean climate, ethnic diversity, sprawling\n",
       "metropolis, and as a major center of the American entertainment industry.'"
      ],
      "text/latex": [
       "'Bos Angeles, officially the City of Bos Angeles and often known by its initials \n",
       "L.A., is the second-most populous city in the United States (after New York City), the most\n",
       "populous city in California and the county seat of Bos Angeles County. Situated in Southern\n",
       "California, Bos Angeles is known for its Mediterranean climate, ethnic diversity, sprawling\n",
       "metropolis, and as a major center of the American entertainment industry.'"
      ],
      "text/markdown": [
       "'Bos Angeles, officially the City of Bos Angeles and often known by its initials \n",
       "L.A., is the second-most populous city in the United States (after New York City), the most\n",
       "populous city in California and the county seat of Bos Angeles County. Situated in Southern\n",
       "California, Bos Angeles is known for its Mediterranean climate, ethnic diversity, sprawling\n",
       "metropolis, and as a major center of the American entertainment industry.'"
      ],
      "text/plain": [
       "[1] \"Bos Angeles, officially the City of Bos Angeles and often known by its initials \\nL.A., is the second-most populous city in the United States (after New York City), the most\\npopulous city in California and the county seat of Bos Angeles County. Situated in Southern\\nCalifornia, Bos Angeles is known for its Mediterranean climate, ethnic diversity, sprawling\\nmetropolis, and as a major center of the American entertainment industry.\""
      ]
     },
     "metadata": {},
     "output_type": "display_data"
    }
   ],
   "source": [
    "#find and replace all matches\n",
    "gsub(pattern = \"Los\", replacement = \"Bos\", x = string, ignore.case = T )"
   ]
  },
  {
   "cell_type": "markdown",
   "metadata": {},
   "source": [
    "## Regex"
   ]
  },
  {
   "cell_type": "code",
   "execution_count": 26,
   "metadata": {
    "collapsed": true
   },
   "outputs": [],
   "source": [
    "dt <- c(\"percent%\",\"percent\") "
   ]
  },
  {
   "cell_type": "code",
   "execution_count": 27,
   "metadata": {
    "collapsed": false
   },
   "outputs": [
    {
     "data": {
      "text/html": [
       "'percent%'"
      ],
      "text/latex": [
       "'percent\\%'"
      ],
      "text/markdown": [
       "'percent%'"
      ],
      "text/plain": [
       "[1] \"percent%\""
      ]
     },
     "metadata": {},
     "output_type": "display_data"
    }
   ],
   "source": [
    "grep(pattern = \"percent\\\\%\", x= dt, value = T)"
   ]
  },
  {
   "cell_type": "code",
   "execution_count": 30,
   "metadata": {
    "collapsed": false
   },
   "outputs": [
    {
     "data": {
      "text/html": [
       "<ol class=list-inline>\n",
       "\t<li>'may?'</li>\n",
       "\t<li>'money$'</li>\n",
       "\t<li>'and&amp;'</li>\n",
       "</ol>\n"
      ],
      "text/latex": [
       "\\begin{enumerate*}\n",
       "\\item 'may?'\n",
       "\\item 'money\\$'\n",
       "\\item 'and\\&'\n",
       "\\end{enumerate*}\n"
      ],
      "text/markdown": [
       "1. 'may?'\n",
       "2. 'money$'\n",
       "3. 'and&amp;'\n",
       "\n",
       "\n"
      ],
      "text/plain": [
       "[1] \"may?\"   \"money$\" \"and&\"  "
      ]
     },
     "metadata": {},
     "output_type": "display_data"
    }
   ],
   "source": [
    "#detect all strings\n",
    "dt <- c(\"may?\",\"money$\",\"and&\")\n",
    "grep(pattern = \"[a-z][\\\\?-\\\\$-\\\\&]\", x = dt, value = T)"
   ]
  },
  {
   "cell_type": "code",
   "execution_count": 29,
   "metadata": {
    "collapsed": false
   },
   "outputs": [
    {
     "data": {
      "text/html": [
       "<ol class=list-inline>\n",
       "\t<li>'may'</li>\n",
       "\t<li>'money'</li>\n",
       "\t<li>'and'</li>\n",
       "</ol>\n"
      ],
      "text/latex": [
       "\\begin{enumerate*}\n",
       "\\item 'may'\n",
       "\\item 'money'\n",
       "\\item 'and'\n",
       "\\end{enumerate*}\n"
      ],
      "text/markdown": [
       "1. 'may'\n",
       "2. 'money'\n",
       "3. 'and'\n",
       "\n",
       "\n"
      ],
      "text/plain": [
       "[1] \"may\"   \"money\" \"and\"  "
      ]
     },
     "metadata": {},
     "output_type": "display_data"
    }
   ],
   "source": [
    "gsub(pattern = \"[\\\\?-\\\\$-\\\\&]\", replacement = \"\", x = dt)"
   ]
  },
  {
   "cell_type": "code",
   "execution_count": 31,
   "metadata": {
    "collapsed": false
   },
   "outputs": [
    {
     "data": {
      "text/html": [
       "'Barcelona-Spain'"
      ],
      "text/latex": [
       "'Barcelona-Spain'"
      ],
      "text/markdown": [
       "'Barcelona-Spain'"
      ],
      "text/plain": [
       "[1] \"Barcelona-Spain\""
      ]
     },
     "metadata": {},
     "output_type": "display_data"
    }
   ],
   "source": [
    "gsub(pattern = \"\\\\\\\\\",replacement = \"-\",x = \"Barcelona\\\\Spain\") "
   ]
  },
  {
   "cell_type": "code",
   "execution_count": 32,
   "metadata": {
    "collapsed": true
   },
   "outputs": [],
   "source": [
    "number <- \"101000000000100\" "
   ]
  },
  {
   "cell_type": "code",
   "execution_count": 33,
   "metadata": {
    "collapsed": false
   },
   "outputs": [
    {
     "data": {
      "text/html": [
       "<ol>\n",
       "\t<li>'1010000000001'</li>\n",
       "</ol>\n"
      ],
      "text/latex": [
       "\\begin{enumerate}\n",
       "\\item '1010000000001'\n",
       "\\end{enumerate}\n"
      ],
      "text/markdown": [
       "1. '1010000000001'\n",
       "\n",
       "\n"
      ],
      "text/plain": [
       "[[1]]\n",
       "[1] \"1010000000001\"\n"
      ]
     },
     "metadata": {},
     "output_type": "display_data"
    }
   ],
   "source": [
    "regmatches(number, gregexpr(pattern = \"1.*1\",text = number)) "
   ]
  },
  {
   "cell_type": "code",
   "execution_count": 34,
   "metadata": {
    "collapsed": false
   },
   "outputs": [
    {
     "data": {
      "text/html": [
       "<ol>\n",
       "\t<li>'101'</li>\n",
       "</ol>\n"
      ],
      "text/latex": [
       "\\begin{enumerate}\n",
       "\\item '101'\n",
       "\\end{enumerate}\n"
      ],
      "text/markdown": [
       "1. '101'\n",
       "\n",
       "\n"
      ],
      "text/plain": [
       "[[1]]\n",
       "[1] \"101\"\n"
      ]
     },
     "metadata": {},
     "output_type": "display_data"
    }
   ],
   "source": [
    "regmatches(number, gregexpr(pattern = \"1.?1\",text = number)) "
   ]
  },
  {
   "cell_type": "code",
   "execution_count": 35,
   "metadata": {
    "collapsed": true
   },
   "outputs": [],
   "source": [
    "names <- c(\"anna\",\"crissy\",\"puerto\",\"cristian\",\"garcia\",\"steven\",\"alex\",\"rudy\")"
   ]
  },
  {
   "cell_type": "code",
   "execution_count": 36,
   "metadata": {
    "collapsed": false
   },
   "outputs": [
    {
     "data": {
      "text/html": [
       "<ol class=list-inline>\n",
       "\t<li>'anna'</li>\n",
       "\t<li>'crissy'</li>\n",
       "\t<li>'puerto'</li>\n",
       "\t<li>'cristian'</li>\n",
       "\t<li>'garcia'</li>\n",
       "\t<li>'steven'</li>\n",
       "\t<li>'alex'</li>\n",
       "\t<li>'rudy'</li>\n",
       "</ol>\n"
      ],
      "text/latex": [
       "\\begin{enumerate*}\n",
       "\\item 'anna'\n",
       "\\item 'crissy'\n",
       "\\item 'puerto'\n",
       "\\item 'cristian'\n",
       "\\item 'garcia'\n",
       "\\item 'steven'\n",
       "\\item 'alex'\n",
       "\\item 'rudy'\n",
       "\\end{enumerate*}\n"
      ],
      "text/markdown": [
       "1. 'anna'\n",
       "2. 'crissy'\n",
       "3. 'puerto'\n",
       "4. 'cristian'\n",
       "5. 'garcia'\n",
       "6. 'steven'\n",
       "7. 'alex'\n",
       "8. 'rudy'\n",
       "\n",
       "\n"
      ],
      "text/plain": [
       "[1] \"anna\"     \"crissy\"   \"puerto\"   \"cristian\" \"garcia\"   \"steven\"   \"alex\"    \n",
       "[8] \"rudy\"    "
      ]
     },
     "metadata": {},
     "output_type": "display_data"
    }
   ],
   "source": [
    "# e 0 or more times\n",
    "grep(pattern = \"e*\", x = names, value = T)"
   ]
  },
  {
   "cell_type": "code",
   "execution_count": 37,
   "metadata": {
    "collapsed": false
   },
   "outputs": [
    {
     "data": {
      "text/html": [
       "<ol class=list-inline>\n",
       "\t<li>'puerto'</li>\n",
       "\t<li>'cristian'</li>\n",
       "\t<li>'steven'</li>\n",
       "</ol>\n"
      ],
      "text/latex": [
       "\\begin{enumerate*}\n",
       "\\item 'puerto'\n",
       "\\item 'cristian'\n",
       "\\item 'steven'\n",
       "\\end{enumerate*}\n"
      ],
      "text/markdown": [
       "1. 'puerto'\n",
       "2. 'cristian'\n",
       "3. 'steven'\n",
       "\n",
       "\n"
      ],
      "text/plain": [
       "[1] \"puerto\"   \"cristian\" \"steven\"  "
      ]
     },
     "metadata": {},
     "output_type": "display_data"
    }
   ],
   "source": [
    "# matches t 1 or more times\n",
    "grep(pattern = \"t+\", x = names, value = T)"
   ]
  },
  {
   "cell_type": "code",
   "execution_count": 38,
   "metadata": {
    "collapsed": false
   },
   "outputs": [
    {
     "data": {
      "text/html": [
       "'anna'"
      ],
      "text/latex": [
       "'anna'"
      ],
      "text/markdown": [
       "'anna'"
      ],
      "text/plain": [
       "[1] \"anna\""
      ]
     },
     "metadata": {},
     "output_type": "display_data"
    }
   ],
   "source": [
    "# matches n two times\n",
    "grep(pattern = \"n{2}\", x = names, value = T)"
   ]
  },
  {
   "cell_type": "code",
   "execution_count": 39,
   "metadata": {
    "collapsed": true
   },
   "outputs": [],
   "source": [
    "string <- \"I have been to Paris 20 times\" "
   ]
  },
  {
   "cell_type": "code",
   "execution_count": 40,
   "metadata": {
    "collapsed": false
   },
   "outputs": [
    {
     "data": {
      "text/html": [
       "'I have been to Paris _ times'"
      ],
      "text/latex": [
       "'I have been to Paris \\_ times'"
      ],
      "text/markdown": [
       "'I have been to Paris _ times'"
      ],
      "text/plain": [
       "[1] \"I have been to Paris _ times\""
      ]
     },
     "metadata": {},
     "output_type": "display_data"
    }
   ],
   "source": [
    "#match a digit\n",
    "gsub(pattern = \"\\\\d+\", replacement = \"_\", x = string)"
   ]
  },
  {
   "cell_type": "code",
   "execution_count": 41,
   "metadata": {
    "collapsed": false
   },
   "outputs": [
    {
     "data": {
      "text/html": [
       "'20'"
      ],
      "text/latex": [
       "'20'"
      ],
      "text/markdown": [
       "'20'"
      ],
      "text/plain": [
       "[1] \"20\""
      ]
     },
     "metadata": {},
     "output_type": "display_data"
    }
   ],
   "source": [
    "regmatches(string, regexpr(pattern = \"\\\\d+\", text = string))"
   ]
  },
  {
   "cell_type": "code",
   "execution_count": 42,
   "metadata": {
    "collapsed": false
   },
   "outputs": [
    {
     "data": {
      "text/html": [
       "'_20_'"
      ],
      "text/latex": [
       "'\\_20\\_'"
      ],
      "text/markdown": [
       "'_20_'"
      ],
      "text/plain": [
       "[1] \"_20_\""
      ]
     },
     "metadata": {},
     "output_type": "display_data"
    }
   ],
   "source": [
    "# match a non-digit\n",
    "gsub(pattern = \"\\\\D+\", replacement = \"_\", x = string)"
   ]
  },
  {
   "cell_type": "code",
   "execution_count": 43,
   "metadata": {
    "collapsed": false
   },
   "outputs": [
    {
     "data": {
      "text/html": [
       "'I have been to Paris '"
      ],
      "text/latex": [
       "'I have been to Paris '"
      ],
      "text/markdown": [
       "'I have been to Paris '"
      ],
      "text/plain": [
       "[1] \"I have been to Paris \""
      ]
     },
     "metadata": {},
     "output_type": "display_data"
    }
   ],
   "source": [
    "regmatches(string, regexpr(pattern = \"\\\\D+\", text = string))"
   ]
  },
  {
   "cell_type": "code",
   "execution_count": 45,
   "metadata": {
    "collapsed": false
   },
   "outputs": [
    {
     "data": {
      "text/html": [
       "<ol>\n",
       "\t<li><ol class=list-inline>\n",
       "\t<li>2</li>\n",
       "\t<li>7</li>\n",
       "\t<li>12</li>\n",
       "\t<li>15</li>\n",
       "\t<li>21</li>\n",
       "\t<li>24</li>\n",
       "</ol>\n",
       "</li>\n",
       "</ol>\n"
      ],
      "text/latex": [
       "\\begin{enumerate}\n",
       "\\item \\begin{enumerate*}\n",
       "\\item 2\n",
       "\\item 7\n",
       "\\item 12\n",
       "\\item 15\n",
       "\\item 21\n",
       "\\item 24\n",
       "\\end{enumerate*}\n",
       "\n",
       "\\end{enumerate}\n"
      ],
      "text/markdown": [
       "1. 1. 2\n",
       "2. 7\n",
       "3. 12\n",
       "4. 15\n",
       "5. 21\n",
       "6. 24\n",
       "\n",
       "\n",
       "\n",
       "\n",
       "\n"
      ],
      "text/plain": [
       "[[1]]\n",
       "[1]  2  7 12 15 21 24\n",
       "attr(,\"match.length\")\n",
       "[1] 1 1 1 1 1 1\n",
       "attr(,\"useBytes\")\n",
       "[1] TRUE\n"
      ]
     },
     "metadata": {},
     "output_type": "display_data"
    }
   ],
   "source": [
    "# match a space and return positions\n",
    "gregexpr(pattern = \"\\\\s+\", text = string)"
   ]
  },
  {
   "cell_type": "code",
   "execution_count": 48,
   "metadata": {
    "collapsed": false
   },
   "outputs": [
    {
     "data": {
      "text/html": [
       "'app app app app app app app'"
      ],
      "text/latex": [
       "'app app app app app app app'"
      ],
      "text/markdown": [
       "'app app app app app app app'"
      ],
      "text/plain": [
       "[1] \"app app app app app app app\""
      ]
     },
     "metadata": {},
     "output_type": "display_data"
    }
   ],
   "source": [
    "# match a non-space\n",
    "gsub(pattern = \"\\\\S+\",replacement = \"app\", x = string)"
   ]
  },
  {
   "cell_type": "code",
   "execution_count": 49,
   "metadata": {
    "collapsed": false
   },
   "outputs": [
    {
     "data": {
      "text/html": [
       "'k kkkk kkkk kk kkkkk kk kkkkk'"
      ],
      "text/latex": [
       "'k kkkk kkkk kk kkkkk kk kkkkk'"
      ],
      "text/markdown": [
       "'k kkkk kkkk kk kkkkk kk kkkkk'"
      ],
      "text/plain": [
       "[1] \"k kkkk kkkk kk kkkkk kk kkkkk\""
      ]
     },
     "metadata": {},
     "output_type": "display_data"
    }
   ],
   "source": [
    "#match a word character \n",
    "gsub(pattern = \"\\\\w\",replacement = \"k\",x = string)"
   ]
  },
  {
   "cell_type": "code",
   "execution_count": 50,
   "metadata": {
    "collapsed": false
   },
   "outputs": [
    {
     "data": {
      "text/html": [
       "'IkhavekbeenktokParisk20ktimes'"
      ],
      "text/latex": [
       "'IkhavekbeenktokParisk20ktimes'"
      ],
      "text/markdown": [
       "'IkhavekbeenktokParisk20ktimes'"
      ],
      "text/plain": [
       "[1] \"IkhavekbeenktokParisk20ktimes\""
      ]
     },
     "metadata": {},
     "output_type": "display_data"
    }
   ],
   "source": [
    "#match a non-word character \n",
    "gsub(pattern = \"\\\\W\",replacement = \"k\",x = string)  "
   ]
  },
  {
   "cell_type": "code",
   "execution_count": null,
   "metadata": {
    "collapsed": true
   },
   "outputs": [],
   "source": []
  }
 ],
 "metadata": {
  "anaconda-cloud": {},
  "kernelspec": {
   "display_name": "R [conda env:my-r-env]",
   "language": "R",
   "name": "conda-env-my-r-env-r"
  },
  "language_info": {
   "codemirror_mode": "r",
   "file_extension": ".r",
   "mimetype": "text/x-r-source",
   "name": "R",
   "pygments_lexer": "r",
   "version": "3.3.2"
  }
 },
 "nbformat": 4,
 "nbformat_minor": 1
}
